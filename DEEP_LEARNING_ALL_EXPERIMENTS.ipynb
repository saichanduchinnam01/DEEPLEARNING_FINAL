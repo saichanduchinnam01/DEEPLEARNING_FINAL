{
  "nbformat": 4,
  "nbformat_minor": 0,
  "metadata": {
    "colab": {
      "provenance": [],
      "name": "DEEP LEARNING ALL EXPERIMENTS.ipynb",
      "authorship_tag": "ABX9TyNWiZ1OPXsI9mBtFVZNdRM1",
      "include_colab_link": true
    },
    "kernelspec": {
      "name": "python3",
      "display_name": "Python 3"
    },
    "language_info": {
      "name": "python"
    }
  },
  "cells": [
    {
      "cell_type": "markdown",
      "metadata": {
        "id": "view-in-github",
        "colab_type": "text"
      },
      "source": [
        "<a href=\"https://colab.research.google.com/github/saichanduchinnam01/DEEPLEARNING_FINAL/blob/main/DEEP_LEARNING_ALL_EXPERIMENTS.ipynb\" target=\"_parent\"><img src=\"https://colab.research.google.com/assets/colab-badge.svg\" alt=\"Open In Colab\"/></a>"
      ]
    },
    {
      "cell_type": "code",
      "execution_count": null,
      "metadata": {
        "colab": {
          "base_uri": "https://localhost:8080/"
        },
        "id": "vlQfdKpWKVmy",
        "outputId": "c7ff1c2e-467f-4575-dcfd-4696d64ed183"
      },
      "outputs": [
        {
          "output_type": "stream",
          "name": "stdout",
          "text": [
            "TF imported with eager execution!\n",
            "primes: tf.Tensor([ 2  3  5  7 11 13], shape=(6,), dtype=int32)\n",
            "ones: tf.Tensor([1 1 1 1 1 1], shape=(6,), dtype=int32)\n",
            "just_beyond_primes: tf.Tensor([ 3  4  6  8 12 14], shape=(6,), dtype=int32)\n",
            "primes_doubled: tf.Tensor([ 4  6 10 14 22 26], shape=(6,), dtype=int32)\n",
            "tf.Tensor(\n",
            "[[1 2 3]\n",
            " [4 5 6]], shape=(2, 3), dtype=int32)\n",
            "\n",
            "value of some_matrix is:\n",
            " [[1 2 3]\n",
            " [4 5 6]]\n"
          ]
        }
      ],
      "source": [
        "#1.A.DIMENSIONS CREATING AND MANIPULATING TENSORS\n",
        "import tensorflow as tf\n",
        "try:\n",
        " tf.executing_eagerly()\n",
        " print(\"TF imported with eager execution!\")\n",
        "except ValueError:\n",
        " print(\"TF already imported with eager execution!\")\n",
        "primes = tf.constant([2, 3, 5, 7, 11, 13], dtype=tf.int32)\n",
        "print(\"primes:\", primes)\n",
        "ones = tf.ones([6], dtype=tf.int32)\n",
        "print(\"ones:\", ones)\n",
        "just_beyond_primes = tf.add(primes, ones)\n",
        "print(\"just_beyond_primes:\", just_beyond_primes)\n",
        "twos = tf.constant([2, 2, 2, 2, 2, 2], dtype=tf.int32)\n",
        "primes_doubled = primes * twos\n",
        "print(\"primes_doubled:\", primes_doubled)\n",
        "some_matrix = tf.constant([[1, 2, 3], [4, 5, 6]], dtype=tf.int32)\n",
        "print(some_matrix)\n",
        "print(\"\\nvalue of some_matrix is:\\n\", some_matrix.numpy())"
      ]
    },
    {
      "cell_type": "code",
      "source": [
        "#1.B.TRAIN AND EVALUATE\n",
        "\n",
        "import tensorflow as tf\n",
        "from tensorflow.keras.datasets import mnist\n",
        "from tensorflow.keras.models import Sequential\n",
        "from tensorflow.keras.layers import Dense, Flatten\n",
        "from tensorflow.keras.utils import to_categorical\n",
        "\n",
        "# Load and preprocess the MNIST dataset\n",
        "(x_train, y_train), (x_test, y_test) = mnist.load_data()\n",
        "x_train, x_test = x_train / 255.0, x_test / 255.0\n",
        "y_train, y_test = to_categorical(y_train, 10), to_categorical(y_test, 10)\n",
        "model = Sequential([\n",
        "    Flatten(input_shape=(28, 28)),\n",
        "    Dense(128, activation='relu'),\n",
        "    Dense(64, activation='relu'),\n",
        "    Dense(10, activation='softmax')\n",
        "])\n",
        "model.compile(optimizer='adam',loss='categorical_crossentropy',metrics=['accuracy'])\n",
        "model.fit(x_train, y_train, epochs=5, batch_size=32, validation_split=0.2)\n",
        "test_loss, test_accuracy = model.evaluate(x_test, y_test)\n",
        "print(f\"Test accuracy: {test_accuracy:.4f}\")\n"
      ],
      "metadata": {
        "colab": {
          "base_uri": "https://localhost:8080/"
        },
        "id": "hxS9DE_4MRa1",
        "outputId": "c4334ea0-6378-4463-e14b-d83eb86ae59b"
      },
      "execution_count": null,
      "outputs": [
        {
          "output_type": "stream",
          "name": "stdout",
          "text": [
            "Downloading data from https://storage.googleapis.com/tensorflow/tf-keras-datasets/mnist.npz\n",
            "11490434/11490434 [==============================] - 1s 0us/step\n",
            "Epoch 1/5\n",
            "1500/1500 [==============================] - 17s 9ms/step - loss: 0.2665 - accuracy: 0.9210 - val_loss: 0.1449 - val_accuracy: 0.9567\n",
            "Epoch 2/5\n",
            "1500/1500 [==============================] - 6s 4ms/step - loss: 0.1105 - accuracy: 0.9660 - val_loss: 0.1062 - val_accuracy: 0.9678\n",
            "Epoch 3/5\n",
            "1500/1500 [==============================] - 5s 4ms/step - loss: 0.0759 - accuracy: 0.9766 - val_loss: 0.0941 - val_accuracy: 0.9724\n",
            "Epoch 4/5\n",
            "1500/1500 [==============================] - 7s 5ms/step - loss: 0.0574 - accuracy: 0.9819 - val_loss: 0.0952 - val_accuracy: 0.9716\n",
            "Epoch 5/5\n",
            "1500/1500 [==============================] - 5s 4ms/step - loss: 0.0456 - accuracy: 0.9847 - val_loss: 0.0963 - val_accuracy: 0.9743\n",
            "313/313 [==============================] - 1s 2ms/step - loss: 0.0818 - accuracy: 0.9772\n",
            "Test accuracy: 0.9772\n"
          ]
        }
      ]
    }
  ]
}